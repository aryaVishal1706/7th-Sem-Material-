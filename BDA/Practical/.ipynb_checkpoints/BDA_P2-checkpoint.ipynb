{
 "cells": [
  {
   "cell_type": "code",
   "execution_count": 1,
   "metadata": {},
   "outputs": [],
   "source": [
    "import numpy as np\n",
    "import pandas as pd\n",
    "from sklearn import datasets\n",
    "from sklearn.model_selection import train_test_split\n",
    "from sklearn.linear_model import LinearRegression, LogisticRegression\n",
    "from sklearn.metrics import mean_squared_error, accuracy_score\n",
    "from sklearn.cluster import KMeans\n",
    "from sklearn.metrics import silhouette_score\n",
    "iris = datasets.load_iris()\n",
    "import matplotlib.pyplot as plt\n",
    "import warnings\n",
    "warnings.filterwarnings(\"ignore\")"
   ]
  },
  {
   "cell_type": "code",
   "execution_count": 2,
   "metadata": {},
   "outputs": [
    {
     "name": "stdout",
     "output_type": "stream",
     "text": [
      "Linear Regression\n",
      "Mean Squared Error: 0.10913071951125929\n",
      "\n",
      "Logistic Regression\n",
      "Accuracy: 1.0\n"
     ]
    }
   ],
   "source": [
    "X = iris.data\n",
    "y = iris.target\n",
    "feature_names = iris.feature_names\n",
    "target_names = iris.target_names\n",
    "\n",
    "df = pd.DataFrame(X, columns=feature_names)\n",
    "df['species'] = y\n",
    "X_linear = df.drop(['petal length (cm)', 'species'], axis=1)\n",
    "y_linear = df['petal length (cm)']\n",
    "X_train_linear, X_test_linear, y_train_linear, y_test_linear = train_test_split(X_linear, y_linear, test_size=0.3, random_state=42)\n",
    "\n",
    "#LR\n",
    "linear_model = LinearRegression()\n",
    "linear_model.fit(X_train_linear, y_train_linear)\n",
    "y_pred_linear = linear_model.predict(X_test_linear)\n",
    "mse = mean_squared_error(y_test_linear, y_pred_linear)\n",
    "print(\"Linear Regression\")\n",
    "print(\"Mean Squared Error:\", mse)\n",
    "\n",
    "#LogR\n",
    "df['is_virginica'] = (df['species'] == 2).astype(int)\n",
    "X_logistic = df.drop(['species', 'is_virginica'], axis=1)\n",
    "y_logistic = df['is_virginica']\n",
    "X_train_logistic, X_test_logistic, y_train_logistic, y_test_logistic = train_test_split(X_logistic, y_logistic, test_size=0.3, random_state=42)\n",
    "\n",
    "logistic_model = LogisticRegression()\n",
    "logistic_model.fit(X_train_logistic, y_train_logistic)\n",
    "y_pred_logistic = logistic_model.predict(X_test_logistic)\n",
    "accuracy = accuracy_score(y_test_logistic, y_pred_logistic)\n",
    "print(\"\\nLogistic Regression\")\n",
    "print(\"Accuracy:\", accuracy)"
   ]
  },
  {
   "cell_type": "code",
   "execution_count": null,
   "metadata": {},
   "outputs": [],
   "source": [
    "iris = datasets.load_iris()\n",
    "X = iris.data\n",
    "y = iris.target\n",
    "feature_names = iris.feature_names\n",
    "target_names = iris.target_names\n",
    "\n",
    "df = pd.DataFrame(X, columns=feature_names)\n",
    "df['species'] = y\n",
    "range_n_clusters = list(range(2, 11))\n",
    "silhouette_avg_scores = []\n",
    "\n",
    "for n_clusters in range_n_clusters:\n",
    "    kmeans = KMeans(n_clusters=n_clusters, random_state=42)\n",
    "    cluster_labels = kmeans.fit_predict(X)\n",
    "    silhouette_avg = silhouette_score(X, cluster_labels)\n",
    "    silhouette_avg_scores.append(silhouette_avg)\n",
    "    print(f\"For n_clusters = {n_clusters}, the average silhouette score is {silhouette_avg}\")\n",
    "\n",
    "plt.figure(figsize=(10, 6))\n",
    "plt.plot(range_n_clusters, silhouette_avg_scores, marker='o')\n",
    "plt.xlabel('Number of Clusters (k)')\n",
    "plt.ylabel('Average Silhouette Score')\n",
    "plt.title('Silhouette Method for Optimal k')\n",
    "plt.show()\n",
    "\n",
    "best_k = range_n_clusters[np.argmax(silhouette_avg_scores)]\n",
    "print(f\"Best number of clusters: {best_k}\")\n",
    "kmeans = KMeans(n_clusters=best_k, random_state=42)\n",
    "clusters = kmeans.fit_predict(X)\n",
    "df['cluster'] = clusters\n",
    "\n",
    "\n",
    "plt.figure(figsize=(12, 6))\n",
    "for cluster in range(best_k):\n",
    "    plt.scatter(X[clusters == cluster, 0], X[clusters == cluster, 1], label=f'Cluster {cluster + 1}')\n",
    "plt.xlabel('Feature 1')\n",
    "plt.ylabel('Feature 2')\n",
    "plt.title('K-means Clustering on Iris Dataset')\n",
    "plt.legend()\n",
    "plt.show()"
   ]
  },
  {
   "cell_type": "code",
   "execution_count": null,
   "metadata": {},
   "outputs": [],
   "source": []
  }
 ],
 "metadata": {
  "kernelspec": {
   "display_name": "Python 3 (ipykernel)",
   "language": "python",
   "name": "python3"
  },
  "language_info": {
   "codemirror_mode": {
    "name": "ipython",
    "version": 3
   },
   "file_extension": ".py",
   "mimetype": "text/x-python",
   "name": "python",
   "nbconvert_exporter": "python",
   "pygments_lexer": "ipython3",
   "version": "3.10.7"
  }
 },
 "nbformat": 4,
 "nbformat_minor": 2
}
