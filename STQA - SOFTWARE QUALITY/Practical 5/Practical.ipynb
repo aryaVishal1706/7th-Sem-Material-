{
 "cells": [
  {
   "cell_type": "markdown",
   "metadata": {},
   "source": [
    "##### Name: Arya Vishal Y.\n",
    "##### Roll No: 22BCE501   \n",
    "##### Practical-5\n",
    "##### AIM : To study and perform sample tests using Selenium Testing tool for testing web-based applications."
   ]
  },
  {
   "cell_type": "code",
   "execution_count": 2,
   "metadata": {},
   "outputs": [
    {
     "name": "stderr",
     "output_type": "stream",
     "text": [
      "There was an error managing chromedriver (error sending request for url (https://googlechromelabs.github.io/chrome-for-testing/known-good-versions-with-downloads.json)); using driver found in the cache\n"
     ]
    },
    {
     "name": "stdout",
     "output_type": "stream",
     "text": [
      "Page title after login: Logged In Successfully | Practice Test Automation\n"
     ]
    }
   ],
   "source": [
    "from selenium import webdriver\n",
    "from selenium.webdriver.common.by import By\n",
    "from selenium.webdriver.common.keys import Keys\n",
    "from selenium.webdriver.support.ui import WebDriverWait\n",
    "from selenium.webdriver.support import expected_conditions as EC\n",
    "import time\n",
    "\n",
    "driver = webdriver.Chrome()\n",
    "username = \"student\"\n",
    "password = \"Password123\"\n",
    "driver.get(\"https://practicetestautomation.com/practice-test-login/\")\n",
    "driver.maximize_window()\n",
    "try:\n",
    "    uid = WebDriverWait(driver, 10).until(\n",
    "        EC.presence_of_element_located((By.ID, 'username'))\n",
    "    )\n",
    "    uid.send_keys(username)\n",
    "    uid.send_keys(Keys.RETURN)\n",
    "except Exception as e:\n",
    "    print(f\"Error! Invalid email or username. {e}\")\n",
    "\n",
    "try:\n",
    "    pwd = WebDriverWait(driver, 10).until(\n",
    "        EC.presence_of_element_located((By.ID, 'password'))\n",
    "    )\n",
    "    pwd.send_keys(password)\n",
    "    pwd.send_keys(Keys.RETURN)\n",
    "\n",
    "except Exception as e:\n",
    "    print(f\"Error! Invalid password. {e}\")\n",
    "\n",
    "try:\n",
    "    submit_button = WebDriverWait(driver, 10).until(\n",
    "        EC.element_to_be_clickable((By.ID, \"submit\"))\n",
    "    )\n",
    "    submit_button.click()\n",
    "    time.sleep(5)  \n",
    "    print(f\"Page title after login: {driver.title}\")\n",
    "    driver.get(\"file:///Users/azimtheba/College/SEM_VII/STQA/Practicals/rac5/file.html\")\n",
    "\n",
    "except Exception as e:\n",
    "    print(f\"Login Error! {e}\")\n",
    "time.sleep(10)\n",
    "driver.quit()"
   ]
  },
  {
   "cell_type": "markdown",
   "metadata": {},
   "source": []
  }
 ],
 "metadata": {
  "kernelspec": {
   "display_name": "Python 3",
   "language": "python",
   "name": "python3"
  },
  "language_info": {
   "codemirror_mode": {
    "name": "ipython",
    "version": 3
   },
   "file_extension": ".py",
   "mimetype": "text/x-python",
   "name": "python",
   "nbconvert_exporter": "python",
   "pygments_lexer": "ipython3",
   "version": "3.11.4"
  }
 },
 "nbformat": 4,
 "nbformat_minor": 2
}
