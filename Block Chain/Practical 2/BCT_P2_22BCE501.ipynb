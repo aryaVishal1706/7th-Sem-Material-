{
 "cells": [
  {
   "cell_type": "markdown",
   "metadata": {},
   "source": [
    "<h3 align = \"center\"> Blockchain Techonologies </h3>\n",
    "<h3 align = \"center\"> Practical 2 </h3>\n",
    "<h3 align = \"center\"> Blockchain and Relay Attacks </h3>\n",
    "<h5> 22BCE501 </h5>\n",
    "\n",
    "---"
   ]
  },
  {
   "cell_type": "markdown",
   "metadata": {},
   "source": [
    "##### Import libraries"
   ]
  },
  {
   "cell_type": "code",
   "execution_count": 5,
   "metadata": {},
   "outputs": [],
   "source": [
    "import hashlib\n",
    "import datetime"
   ]
  },
  {
   "cell_type": "markdown",
   "metadata": {},
   "source": [
    "##### Block class to generate blocks"
   ]
  },
  {
   "cell_type": "code",
   "execution_count": 6,
   "metadata": {},
   "outputs": [],
   "source": [
    "class Block:\n",
    "    def __init__(self, index, previous_hash, timestamp, data, hash, nonce):\n",
    "        self.index = index\n",
    "        self.hash = hash\n",
    "        self.previous_hash = previous_hash\n",
    "        self.timestamp = timestamp\n",
    "        self.data = data\n",
    "        self.nonce = nonce\n",
    "\n",
    "    def __repr__(self):\n",
    "        return f\"Block(Index: {self.index}, Hash: {self.hash}, Previous Hash: {self.previous_hash}, Timestamp: {self.timestamp}, Data: {self.data}, Nonce: {self.nonce})\""
   ]
  },
  {
   "cell_type": "markdown",
   "metadata": {},
   "source": [
    "##### Chaining class to add blocks to the chain"
   ]
  },
  {
   "cell_type": "code",
   "execution_count": 7,
   "metadata": {},
   "outputs": [],
   "source": [
    "class Blockchain:\n",
    "    def __init__(self, difficulty=1):\n",
    "        self.chain = [self.create_genesis_block()]\n",
    "        self.difficulty = difficulty\n",
    "\n",
    "    def create_genesis_block(self):\n",
    "        timestamp = datetime.datetime.now().strftime(\"%Y-%m-%d %H:%M:%S\")\n",
    "        return Block(0, \"0\", timestamp, \"Genesis Block\", self.hash_block(0, \"0\", timestamp, \"Genesis Block\", 0), 0)\n",
    "\n",
    "    def get_latest_block(self):\n",
    "        return self.chain[-1]\n",
    "    \n",
    "    # Connect the blocks using previous hash value\n",
    "    def add_block(self, data):\n",
    "        previous_block = self.get_latest_block()\n",
    "        index = previous_block.index + 1\n",
    "        timestamp = datetime.datetime.now().strftime(\"%Y-%m-%d %H:%M:%S\")\n",
    "        previous_hash = previous_block.hash\n",
    "        nonce, hash = self.proof_of_work(index, previous_hash, timestamp, data)\n",
    "        new_block = Block(index, previous_hash, timestamp, data, hash, nonce)\n",
    "        self.chain.append(new_block)\n",
    "        \n",
    "    # Compute hash for each block\n",
    "    def hash_block(self, index, previous_hash, timestamp, data, nonce):\n",
    "        value = f\"{index}{previous_hash}{timestamp}{data}{nonce}\"\n",
    "        return hashlib.sha256(value.encode('utf-8')).hexdigest()\n",
    "    \n",
    "    # Compute nounce for each block based on difficulty\n",
    "    def proof_of_work(self, index, previous_hash, timestamp, data):\n",
    "        nonce = 0\n",
    "        while True:\n",
    "            hash = self.hash_block(index, previous_hash, timestamp, data, nonce)\n",
    "            if hash[:self.difficulty] == '0' * self.difficulty:\n",
    "                return nonce, hash\n",
    "            nonce += 1\n",
    "    \n",
    "    # Check validity of the chain created\n",
    "    def is_chain_valid(self):\n",
    "        for i in range(1, len(self.chain)):\n",
    "            current_block = self.chain[i]\n",
    "            previous_block = self.chain[i-1]\n",
    "            recalculated_hash = self.hash_block(current_block.index, current_block.previous_hash, current_block.timestamp, current_block.data, current_block.nonce)\n",
    "            if current_block.hash != recalculated_hash:\n",
    "                return False\n",
    "            if current_block.previous_hash != previous_block.hash:\n",
    "                return False\n",
    "        return True\n",
    "\n",
    "    def tamper_block(self, index, new_data):\n",
    "        if 0 < index < len(self.chain):\n",
    "            self.chain[index].data = new_data\n",
    "            self.recalculate_block_hash(index)\n",
    "    \n",
    "    # If blocks are tampered recalculate the hash \n",
    "    def recalculate_block_hash(self, index):\n",
    "        current_block = self.chain[index]\n",
    "        previous_hash = self.chain[index-1].hash if index > 0 else \"0\"\n",
    "        nonce, hash = self.proof_of_work(current_block.index, previous_hash, current_block.timestamp, current_block.data)\n",
    "        current_block.hash = hash\n",
    "        current_block.nonce = nonce\n",
    "        current_block.previous_hash = previous_hash"
   ]
  },
  {
   "cell_type": "markdown",
   "metadata": {},
   "source": [
    "##### Execution"
   ]
  },
  {
   "cell_type": "code",
   "execution_count": 8,
   "metadata": {},
   "outputs": [
    {
     "name": "stdout",
     "output_type": "stream",
     "text": [
      "Initial Blockchain:\n",
      "Block(Index: 0, Hash: cd98a1f5056b32d6247c2fcca7f77881a0139ab98a010d17042353f2f420df39, Previous Hash: 0, Timestamp: 2024-08-10 23:38:37, Data: Genesis Block, Nonce: 0)\n",
      "Block(Index: 1, Hash: 0032575685a9390c826293cafde9c2ed980135ec51c035e180e8740a32f2b8a4, Previous Hash: cd98a1f5056b32d6247c2fcca7f77881a0139ab98a010d17042353f2f420df39, Timestamp: 2024-08-10 23:38:37, Data: Block 1, Nonce: 7)\n",
      "Block(Index: 2, Hash: 0c57bfc5ab256ae3590b144dcb82e88b2bb0cda3680bb86ce1716f771191fc74, Previous Hash: 0032575685a9390c826293cafde9c2ed980135ec51c035e180e8740a32f2b8a4, Timestamp: 2024-08-10 23:38:37, Data: Block 2, Nonce: 3)\n",
      "Block(Index: 3, Hash: 01bc2a7cd53b6536161344f24fac59137f6bfa7b57cf433c5fea2b390f11e6aa, Previous Hash: 0c57bfc5ab256ae3590b144dcb82e88b2bb0cda3680bb86ce1716f771191fc74, Timestamp: 2024-08-10 23:38:37, Data: Block 3, Nonce: 9)\n",
      "\n",
      "Blockchain validity ->  True\n",
      "\n",
      "Blockchain post-tampering:\n",
      "Block(Index: 0, Hash: cd98a1f5056b32d6247c2fcca7f77881a0139ab98a010d17042353f2f420df39, Previous Hash: 0, Timestamp: 2024-08-10 23:38:37, Data: Genesis Block, Nonce: 0)\n",
      "Block(Index: 1, Hash: 0bb405ac07cb3db788027e1b16f5f3f374116f5ba1f7b46f8b6ea5c1fbf4d6e2, Previous Hash: cd98a1f5056b32d6247c2fcca7f77881a0139ab98a010d17042353f2f420df39, Timestamp: 2024-08-10 23:38:37, Data: Tampered Data, Nonce: 4)\n",
      "Block(Index: 2, Hash: 0c57bfc5ab256ae3590b144dcb82e88b2bb0cda3680bb86ce1716f771191fc74, Previous Hash: 0032575685a9390c826293cafde9c2ed980135ec51c035e180e8740a32f2b8a4, Timestamp: 2024-08-10 23:38:37, Data: Block 2, Nonce: 3)\n",
      "Block(Index: 3, Hash: 01bc2a7cd53b6536161344f24fac59137f6bfa7b57cf433c5fea2b390f11e6aa, Previous Hash: 0c57bfc5ab256ae3590b144dcb82e88b2bb0cda3680bb86ce1716f771191fc74, Timestamp: 2024-08-10 23:38:37, Data: Block 3, Nonce: 9)\n",
      "\n",
      "Blockchain validity ->  False\n"
     ]
    }
   ],
   "source": [
    "if __name__ == \"__main__\":\n",
    "    blockchain = Blockchain(difficulty=1) \n",
    "    blockchain.add_block(\"Block 1\")\n",
    "    blockchain.add_block(\"Block 2\")\n",
    "    blockchain.add_block(\"Block 3\")\n",
    "    print(\"Initial Blockchain:\")\n",
    "    for block in blockchain.chain:\n",
    "        print(block)\n",
    "    print(\"\\nBlockchain validity -> \", blockchain.is_chain_valid())\n",
    "    blockchain.tamper_block(1, \"Tampered Data\")\n",
    "    print(\"\\nBlockchain post-tampering:\")\n",
    "    for block in blockchain.chain:\n",
    "        print(block)\n",
    "    print(\"\\nBlockchain validity -> \", blockchain.is_chain_valid())"
   ]
  }
 ],
 "metadata": {
  "kernelspec": {
   "display_name": "Python 3 (ipykernel)",
   "language": "python",
   "name": "python3"
  },
  "language_info": {
   "codemirror_mode": {
    "name": "ipython",
    "version": 3
   },
   "file_extension": ".py",
   "mimetype": "text/x-python",
   "name": "python",
   "nbconvert_exporter": "python",
   "pygments_lexer": "ipython3",
   "version": "3.10.7"
  }
 },
 "nbformat": 4,
 "nbformat_minor": 2
}
