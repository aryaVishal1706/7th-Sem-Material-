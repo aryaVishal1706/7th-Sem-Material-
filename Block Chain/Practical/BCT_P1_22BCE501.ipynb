{
 "cells": [
  {
   "cell_type": "markdown",
   "metadata": {},
   "source": [
    "# Blockchain Techonologies\n",
    "## Practical 1 \n",
    "## Digital Signature and Authentication \n",
    "<h5> 22BCE501</h5>\n",
    "\n",
    "---"
   ]
  },
  {
   "cell_type": "markdown",
   "metadata": {},
   "source": [
    "##### Importing Libraries"
   ]
  },
  {
   "cell_type": "code",
   "execution_count": 7,
   "metadata": {},
   "outputs": [],
   "source": [
    "from Crypto.Hash import SHA256, SHA512, BLAKE2s, MD5, keccak, HMAC\n",
    "from Crypto.PublicKey import RSA\n",
    "from Crypto.Cipher import PKCS1_OAEP\n",
    "import binascii\n",
    "import os"
   ]
  },
  {
   "cell_type": "markdown",
   "metadata": {},
   "source": [
    "##### Exploring Hashing Algorithms"
   ]
  },
  {
   "cell_type": "code",
   "execution_count": 8,
   "metadata": {},
   "outputs": [
    {
     "name": "stdout",
     "output_type": "stream",
     "text": [
      "ca978112ca1bbdcafac231b39a23dc4da786eff8147c4e72b9807785afee48bb\n",
      "1f40fc92da241694750979ee6cf582f2d5d7d28e18335de05abc54d0560e0f5302860c652bf08d560252aa5e74210546f369fbbbce8c12cfc7957b2652fe9a75\n",
      "4a0d129873403037c2cd9b9048203687f6233fb6738956e0349bd4320fec3e90\n",
      "0cc175b9c0f1b6a831c399e269772661\n",
      "9c46dbec5d03f74352cc4a4da354b4e9796887eeb66ac292617692e765dbe400352559b16229f97b27614b51dbfbbb14613f2c10350435a8feaf53f73ba01c7c\n"
     ]
    }
   ],
   "source": [
    "test = b'a'\n",
    "hash_object1 = SHA256.new(data=test)\n",
    "print(hash_object1.hexdigest())\n",
    "hash_object2 = SHA512.new(data=test)\n",
    "print(hash_object2.hexdigest())\n",
    "hash_object3 = BLAKE2s.new(digest_bits=256)\n",
    "hash_object3.update(test)\n",
    "print(hash_object3.hexdigest())\n",
    "hash_object4 = MD5.new()\n",
    "hash_object4.update(test)\n",
    "print(hash_object4.hexdigest())\n",
    "hash_object5 = keccak.new(digest_bits=512)\n",
    "hash_object5.update(test)\n",
    "print(hash_object5.hexdigest())"
   ]
  },
  {
   "cell_type": "markdown",
   "metadata": {},
   "source": [
    "##### Implement digital signature concept through RSA algorithm"
   ]
  },
  {
   "cell_type": "code",
   "execution_count": 9,
   "metadata": {},
   "outputs": [
    {
     "name": "stdout",
     "output_type": "stream",
     "text": [
      "SHA256 HASH: ca978112ca1bbdcafac231b39a23dc4da786eff8147c4e72b9807785afee48bb for message: b'a'\n",
      "Encrypted hash for message 'a': 0932f7ba1eeab9dfd5828281deb8fd1d6ef255660501a40910faf02a460e6a5aec07102e3e947a2db80fa8104ffb8cf204b119c00d7c11dea38b7c8d9d88941ca2d61d6abd06944027f3004bcf138c3710c7e40858461257d17957d8e578dfbfd30093e3b49ab429457f5a01d300b7c34d9c132f984e53ba5c5abc6220e6b16b2b09fd565c6c9a3c399b81423cbfc0fb88712213bf34cc60307f0cf5b11822bbdcbdc4a1c68ec5fdef8ccac545e2355b7f53ccabd744ff4626204fa7017bf6183f7f1f4c1242d18820d962e338844d0a7797763f8b5141d0a15bc208782364f53aa3af53afba55022ab747ae7fca886d52010936c65eee41acd749b31675f63d\n",
      "SHA256 HASH: 3e23e8160039594a33894f6564e1b1348bbd7a0088d42c4acb73eeaed59c009d for message: b'b'\n",
      "Encrypted hash for message 'b': 160b5a3862815efe915b60f18cdc125d6bae6cbe1efe39d5d82b54b3c143ef1e9e876bf7ab0410744a261cd11462d48585f54cee843ae67a05d532f74ca817ca576b37bf3853a227b0ea31b38fa6b90c745c46cdb8c839c9f611745e9da53d9511cf65f13c594be2910540233e4bb93037f52b3a747471e65c9e335a3f0c3d5d75b2eb85be475e4b2d5b16d63074b5d143444553b2e27e17448c793bf0ae20427d801ccb54715fa2b33364e8d9dcfeb5b064979fb188f7c2b85e4e0e9b1599a8624ca467507907be6f246ab7471a11dcc97a5e7d279fc8ddb42e7e809e7dd77421378da3da6e79c63417caa6bb057793493c02d68c25dc85571c3e1bfbd9a5ac\n",
      "Decrypted hash for original message: ca978112ca1bbdcafac231b39a23dc4da786eff8147c4e72b9807785afee48bb\n",
      "Decrypted hash for tampered message: 3e23e8160039594a33894f6564e1b1348bbd7a0088d42c4acb73eeaed59c009d\n",
      "Hashes don't match -> Tampering detected\n"
     ]
    }
   ],
   "source": [
    "def hash_encrypt(message):\n",
    "    hash_object = SHA256.new(data=message)\n",
    "    sha256_hash = hash_object.hexdigest()\n",
    "    print(f\"SHA256 HASH: {sha256_hash} for message: {message}\")\n",
    "    cipher = PKCS1_OAEP.new(public_key)\n",
    "    encrypted_hash = cipher.encrypt(sha256_hash.encode('utf-8'))\n",
    "    print(f\"Encrypted hash for message '{message.decode()}':\", binascii.hexlify(encrypted_hash).decode('utf-8'))\n",
    "    return encrypted_hash\n",
    "\n",
    "# Generating keys\n",
    "key = RSA.generate(2048)\n",
    "public_key = key.publickey()\n",
    "private_key = key\n",
    "\n",
    "# Original message\n",
    "original_message = b'a'\n",
    "encrypted_original_hash = hash_encrypt(original_message)\n",
    "\n",
    "# Tampered message\n",
    "tampered_message = b'b'\n",
    "encrypted_tampered_hash = hash_encrypt(tampered_message)\n",
    "decrypt_cipher = PKCS1_OAEP.new(private_key)\n",
    "\n",
    "# Decrypt and verify if the hashes match\n",
    "try:\n",
    "    decrypted_original_hash = decrypt_cipher.decrypt(encrypted_original_hash)\n",
    "    print(\"Decrypted hash for original message:\", decrypted_original_hash.decode('utf-8'))\n",
    "except ValueError:\n",
    "    print(\"Decryption failed\")\n",
    "try:\n",
    "    decrypted_tampered_hash = decrypt_cipher.decrypt(encrypted_tampered_hash)\n",
    "    print(\"Decrypted hash for tampered message:\", decrypted_tampered_hash.decode('utf-8'))\n",
    "except ValueError:\n",
    "    print(\"Decryption failed\")\n",
    "\n",
    "if decrypted_original_hash == decrypted_tampered_hash:\n",
    "    print(\"Hashes match -> No tampering\")\n",
    "else:\n",
    "    print(\"Hashes don't match -> Tampering detected\")"
   ]
  },
  {
   "cell_type": "markdown",
   "metadata": {},
   "source": [
    "##### Implement the concept of Message Authentication Code (MAC)"
   ]
  },
  {
   "cell_type": "code",
   "execution_count": 10,
   "metadata": {},
   "outputs": [
    {
     "name": "stdout",
     "output_type": "stream",
     "text": [
      "HMAC: acb5b2c9ce213eb27eee60a8d4f961b4a23296ec059551e898999176f9e2bb7f\n",
      "Message is authentic.\n"
     ]
    }
   ],
   "source": [
    "test = b'a'\n",
    "secret_key = os.urandom(16)\n",
    "hmac_object = HMAC.new(secret_key, digestmod=SHA256)\n",
    "hmac_object.update(test)\n",
    "mac = hmac_object.hexdigest()\n",
    "print(\"HMAC:\", mac)\n",
    "\n",
    "try:\n",
    "    hmac_object.verify(bytes.fromhex(mac))\n",
    "    print(\"Message is authentic.\")\n",
    "except ValueError:\n",
    "    print(\"Tampered message\")"
   ]
  }
 ],
 "metadata": {
  "kernelspec": {
   "display_name": "Python 3 (ipykernel)",
   "language": "python",
   "name": "python3"
  },
  "language_info": {
   "codemirror_mode": {
    "name": "ipython",
    "version": 3
   },
   "file_extension": ".py",
   "mimetype": "text/x-python",
   "name": "python",
   "nbconvert_exporter": "python",
   "pygments_lexer": "ipython3",
   "version": "3.10.7"
  }
 },
 "nbformat": 4,
 "nbformat_minor": 2
}
