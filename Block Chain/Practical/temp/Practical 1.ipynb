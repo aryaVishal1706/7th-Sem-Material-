{
  "cells": [
    {
      "cell_type": "code",
      "execution_count": null,
      "metadata": {
        "colab": {
          "base_uri": "https://localhost:8080/"
        },
        "id": "BS6kliZ2oI4_",
        "outputId": "530e82be-55af-4a47-f737-90de8ff93a38"
      },
      "outputs": [
        {
          "name": "stdout",
          "output_type": "stream",
          "text": [
            "Collecting pycryptodome\n",
            "  Downloading pycryptodome-3.20.0-cp35-abi3-manylinux_2_17_x86_64.manylinux2014_x86_64.whl.metadata (3.4 kB)\n",
            "Downloading pycryptodome-3.20.0-cp35-abi3-manylinux_2_17_x86_64.manylinux2014_x86_64.whl (2.1 MB)\n",
            "\u001b[?25l   \u001b[90m━━━━━━━━━━━━━━━━━━━━━━━━━━━━━━━━━━━━━━━━\u001b[0m \u001b[32m0.0/2.1 MB\u001b[0m \u001b[31m?\u001b[0m eta \u001b[36m-:--:--\u001b[0m\r\u001b[2K   \u001b[91m━━━━━━━━━━\u001b[0m\u001b[91m╸\u001b[0m\u001b[90m━━━━━━━━━━━━━━━━━━━━━━━━━━━━━\u001b[0m \u001b[32m0.6/2.1 MB\u001b[0m \u001b[31m16.3 MB/s\u001b[0m eta \u001b[36m0:00:01\u001b[0m\r\u001b[2K   \u001b[90m━━━━━━━━━━━━━━━━━━━━━━━━━━━━━━━━━━━━━━━━\u001b[0m \u001b[32m2.1/2.1 MB\u001b[0m \u001b[31m28.3 MB/s\u001b[0m eta \u001b[36m0:00:00\u001b[0m\n",
            "\u001b[?25hInstalling collected packages: pycryptodome\n",
            "Successfully installed pycryptodome-3.20.0\n"
          ]
        }
      ],
      "source": [
        "!pip install pycryptodome"
      ]
    },
    {
      "cell_type": "code",
      "execution_count": null,
      "metadata": {
        "colab": {
          "base_uri": "https://localhost:8080/"
        },
        "id": "8k6yA98ZcVCx",
        "outputId": "275355c8-cd37-4e89-be63-cfcf6679ca5d"
      },
      "outputs": [
        {
          "name": "stdout",
          "output_type": "stream",
          "text": [
            "Encrypted data: b'\\xa1\\x90\\x8f\\xe8X\\xc7B\\x95\\x8e_N\\xd8,\\xf6P\\x10\\xc1\\x07\\x9b]g\\xb2\\x1e\\xa8hB\\xa6\\x18\\xd2\\xf9j\\x86\\xe6m\\xba>\\x02\\xe0\\xec^R\\xaa\\xbb \\xc1\\xea\\xec\\xd5\\xf8\\xac0\\xf2\\xc5\\xacw\\xfd\\r\\xef\\x98\\xf56\\xaf\\xf0\\xb7\\xecaf\\xa1\\n\\xce\\x10\\x84`\\x07\\xe5\\x1d\\x1c\\xe3\\xf6\\n\\xda\\x86\\x81\\xf9\\x01\\xc7b\\x0c\\x9b\\xe8V\\xb0\\xb2\\xd0\\x8c\\x0c\\xc3\\x03\\x8e\\x941D\\xab;p4\\xe2}&\\xf1\\x16?A\\xbeC$?aH\\xe7!DJN\\xf5\\xe8\\xe0\\xe8\\xb6\\xaf\\xe0gFuh\\x1cH\\x18\\xf2\\xd7\\xef\\xe1\\xab\\xebk\\rG\\xa3\\xc8\\x01\\xd5P\\xe5B\\xa8\\x133\\t\\x01\\x8aH\\xfeT\\xa2<_c\\x11\\xb8\\xf1\\x08,\\xaa\\x97\"D\\x90\\xd9\\xfe\\x84\\x03\\x06R\\x8f\\x02\\xef\\xb2\\x98\\xa2\\xdeaj\\xa7y\\'\\xdbD\\xa1\\xa2\\x8a\\xaf\\x0c\\x00\\xf3\\xab{f#\\x1d\\xea\\nj-N\\xb1\\xdbW@L\\x7f\\xbf\\xac\\xf1\\xbf\\x84\\xe5`i\\x82dv\\x966\\x89\\xfe\\x8b\\xb0@\\xfbX\\xa4\\xd6\\xad\\x1d\\x92L\\xc3\\x1c\\xe2\\xbd-T\\xd9v\\x95\\xe7'\n",
            "Digital signature: b'P\\xc8i\\xd5\\xc7\\x8f\\x9b\\x9a\\xe4\\xbe\\xcc\\x94\\xa3\\xc2\\\\D\\x84<\\x13\\xb7\\xe3\\x9eg\\xe6\\x8di\\xff0\\x87\\xcfx\\xcd\\x12<F\\xa3\\xce\\xa9\\x05\\xf4\\xd6[d\\x94{\\xb9\\xdf*\\xc3#\\xf0;\\x900\\xb8\\xd9\\xf9\\x17c@\\xf0y\\xe3\\xa4\\x052\\x9aB\\xae\\x18\\xd4`5\\xc2r}\\x1aX\\xc6\\x8a\\xed\\xd9\\xd1)\\xcc\\x06RKojl\\x80:\\xfe\\xb6\\xa4*{t\\x8e\\xcc\\xfd\\xd8R\\x89\\xbf\\xcf\\x9b\\x18c\\xc3\\xfd@\\xe1T\\xe3\\xea\\xa4\\xfaa\\xf3\\xc9\\x12\\x82\\r\\x9b\\xa4\\xa2\\xdf\\r\\xe9\\x07\\xca\\x1a\\x94\\xd1>\\xe9\\xd4\\xfaw\\x95\\xf3\\x83\\x0cA\\xa5\\xac\\xe2w\\xc8\\xd38\\xbd\\xbe\\xeb{\\xb5\\x94\\xca!\\x83@&\\x89\\xc3\\x92\\x8d\\xf2\\xfb\\xa3V\\x1c8\\x8d%\\xaaX\"3\\xa7@, ]\\x81\\xdb\\xe7[/]~y8n\\xd4\"$\\xf5\\x1e[\\x14\\\\\\xdf\\xe0Q\\x84\\x06M\\x1c\\xad:\\t\\xcd\\xea\\xd4\\xfb\\xf4\\xf0\\x17\\xd6ZU\\xe3\\x10d\\xb1Jd\\x91\\x06j\\xc4\\t\\xcfl\\x15\\xfe4\\xe7<<\\xce\\xf0+g\\x86\\xb0\\xe1\\x8a\\xcaD\\xc9\\x0f\\x1e\\xda'\n",
            "The signature is valid.\n"
          ]
        }
      ],
      "source": [
        "from Crypto.PublicKey import RSA\n",
        "from Crypto.Cipher import PKCS1_OAEP\n",
        "from Crypto.Signature import pkcs1_15\n",
        "from Crypto.Hash import SHA256\n",
        "\n",
        "#  this is our rsa key of 2048 bits\n",
        "key = RSA.generate(2048)         \n",
        "private_key = key.export_key()\n",
        "public_key = key.publickey().export_key()\n",
        "\n",
        "private_key1 = RSA.import_key(private_key)   \n",
        "public_key1 = RSA.import_key(public_key)\n",
        "\n",
        "# Data to encrypt and sign\n",
        "data = b\"Data that needs to be encrypted and signed.\"\n",
        "\n",
        "# Encrypt\n",
        "# here the data is converted into its encrypted form i.e cypher text\n",
        "cipher = PKCS1_OAEP.new(public_key1)         \n",
        "ciphertext = cipher.encrypt(data)\n",
        "print(\"Encrypted data:\", ciphertext)\n",
        "\n",
        "\n",
        "hash_obj = SHA256.new(data)          \n",
        "\n",
        "# Sign the hash using the private key\n",
        "signature = pkcs1_15.new(private_key1).sign(hash_obj)       \n",
        "print(\"Digital signature:\", signature)\n",
        "\n",
        "# Verify the signature\n",
        "try:\n",
        "    pkcs1_15.new(public_key1).verify(hash_obj, signature)\n",
        "    print(\"The signature is valid.\")\n",
        "except (ValueError, TypeError):\n",
        "    print(\"The signature is not valid.\")\n"
      ]
    }
  ],
  "metadata": {
    "colab": {
      "provenance": []
    },
    "kernelspec": {
      "display_name": "Python 3",
      "name": "python3"
    },
    "language_info": {
      "name": "python"
    }
  },
  "nbformat": 4,
  "nbformat_minor": 0
}
